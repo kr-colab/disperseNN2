{
  "cells": [
    {
      "cell_type": "markdown",
      "metadata": {
        "id": "view-in-github",
        "colab_type": "text"
      },
      "source": [
        "<a href=\"https://colab.research.google.com/github/andrewkern/disperseNN2/blob/adk_doc/docs/disperseNN2_vignette.ipynb\" target=\"_parent\"><img src=\"https://colab.research.google.com/assets/colab-badge.svg\" alt=\"Open In Colab\"/></a>"
      ]
    },
    {
      "cell_type": "markdown",
      "metadata": {
        "id": "TQYmvuPKnf2F"
      },
      "source": [
        "# disperseNN2 Colab Notebook Vignette\n",
        "This notebook is meant to give an example of training a disperseNN2 model on a small dataset.\n",
        "It is meant to be run on Google Colab, which provides a GPU to speed up training but can also be run locally\n",
        "if the user has the required packages installed with or without a GPU. The steps we will take are as follows:\n"
      ]
    },
    {
      "cell_type": "markdown",
      "metadata": {
        "id": "UwW_uoEfpMu9"
      },
      "source": [
        "## 1. Set up the environment\n",
        "\n",
        "First we need to set up our colab instance by installing software, installing disperseNN2, cloning the repo to get example data, and importing packages."
      ]
    },
    {
      "cell_type": "code",
      "execution_count": null,
      "metadata": {
        "id": "k1kf2-NKcTrO"
      },
      "outputs": [],
      "source": [
        "%%bash\n",
        "# install software we will need for the vignette\n",
        "pip install disperseNN2 pdf2image\n",
        "\n",
        "# clone repo\n",
        "git clone https://github.com/chriscrsmith/disperseNN2.git\n",
        "\n"
      ]
    },
}
